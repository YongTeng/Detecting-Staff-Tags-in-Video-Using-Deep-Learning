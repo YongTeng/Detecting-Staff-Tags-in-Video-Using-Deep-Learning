{
 "cells": [
  {
   "cell_type": "code",
   "execution_count": 2,
   "id": "ad8cb3fc-c958-48d3-813a-f314f91103f5",
   "metadata": {
    "tags": []
   },
   "outputs": [],
   "source": [
    "import cv2\n",
    "import os\n",
    "import numpy as np"
   ]
  },
  {
   "cell_type": "code",
   "execution_count": 3,
   "id": "7f30ca30-ac3a-46e1-95b4-999fd698fefd",
   "metadata": {
    "tags": []
   },
   "outputs": [],
   "source": [
    "# Load the video\n",
    "video_path = '/Users/yongtengchai/Downloads/FootfallCam/sample.mp4'\n",
    "cap = cv2.VideoCapture(video_path)"
   ]
  },
  {
   "cell_type": "code",
   "execution_count": 4,
   "id": "3d61b8f8-ec01-4c25-a8d7-79ad81288b6b",
   "metadata": {
    "tags": []
   },
   "outputs": [],
   "source": [
    "# Directories for labeled frames\n",
    "train_dir = '/Users/yongtengchai/Downloads/FootfallCam/extracted_frames/train'\n",
    "val_dir = '/Users/yongtengchai/Downloads/FootfallCam/extracted_frames/val'\n",
    "\n",
    "staff_tag_train_dir = os.path.join(train_dir, 'staff_tag')\n",
    "no_staff_tag_train_dir = os.path.join(train_dir, 'no_staff_tag')\n",
    "\n",
    "staff_tag_val_dir = os.path.join(val_dir, 'staff_tag')\n",
    "no_staff_tag_val_dir = os.path.join(val_dir, 'no_staff_tag')\n"
   ]
  },
  {
   "cell_type": "code",
   "execution_count": 5,
   "id": "1867c2e0-e45a-4c2c-8f8c-cb94dd890284",
   "metadata": {
    "tags": []
   },
   "outputs": [
    {
     "name": "stdout",
     "output_type": "stream",
     "text": [
      "Extracted and saved 135 labeled frames.\n"
     ]
    }
   ],
   "source": [
    "# Create directories for training and validation data\n",
    "os.makedirs(staff_tag_train_dir, exist_ok=True)\n",
    "os.makedirs(no_staff_tag_train_dir, exist_ok=True)\n",
    "os.makedirs(staff_tag_val_dir, exist_ok=True)\n",
    "os.makedirs(no_staff_tag_val_dir, exist_ok=True)\n",
    "\n",
    "frame_count = 0\n",
    "saved_frame_count = 0\n",
    "train_split_ratio = 0.8  # 80% for training, 20% for validation\n",
    "\n",
    "while True:\n",
    "    ret, frame = cap.read()\n",
    "    if not ret:\n",
    "        break\n",
    "\n",
    "    # Save every nth frame (for example, every 10th frame)\n",
    "    if frame_count % 10 == 0:\n",
    "        # Assume staff_tag is present for half the frames\n",
    "        if frame_count % 2 == 0:\n",
    "            label = 'staff_tag'\n",
    "        else:\n",
    "            label = 'no_staff_tag'\n",
    "\n",
    "        # Determine if the frame should go to training or validation set\n",
    "        if np.random.rand() < train_split_ratio:\n",
    "            if label == 'staff_tag':\n",
    "                frame_filename = os.path.join(staff_tag_train_dir, f\"frame_{saved_frame_count}.jpg\")\n",
    "            else:\n",
    "                frame_filename = os.path.join(no_staff_tag_train_dir, f\"frame_{saved_frame_count}.jpg\")\n",
    "        else:\n",
    "            if label == 'staff_tag':\n",
    "                frame_filename = os.path.join(staff_tag_val_dir, f\"frame_{saved_frame_count}.jpg\")\n",
    "            else:\n",
    "                frame_filename = os.path.join(no_staff_tag_val_dir, f\"frame_{saved_frame_count}.jpg\")\n",
    "\n",
    "        # Save the frame\n",
    "        cv2.imwrite(frame_filename, frame)\n",
    "        saved_frame_count += 1\n",
    "\n",
    "    frame_count += 1\n",
    "\n",
    "cap.release()\n",
    "print(f\"Extracted and saved {saved_frame_count} labeled frames.\")\n"
   ]
  },
  {
   "cell_type": "code",
   "execution_count": null,
   "id": "bcbfcaab-6439-42df-aad1-8ddd353258ca",
   "metadata": {},
   "outputs": [],
   "source": []
  }
 ],
 "metadata": {
  "kernelspec": {
   "display_name": "Python 3 (ipykernel)",
   "language": "python",
   "name": "python3"
  },
  "language_info": {
   "codemirror_mode": {
    "name": "ipython",
    "version": 3
   },
   "file_extension": ".py",
   "mimetype": "text/x-python",
   "name": "python",
   "nbconvert_exporter": "python",
   "pygments_lexer": "ipython3",
   "version": "3.11.6"
  }
 },
 "nbformat": 4,
 "nbformat_minor": 5
}
